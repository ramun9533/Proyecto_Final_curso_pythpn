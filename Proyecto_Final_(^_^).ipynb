{
  "nbformat": 4,
  "nbformat_minor": 0,
  "metadata": {
    "colab": {
      "provenance": [],
      "authorship_tag": "ABX9TyPdDC9PVhkikmNo1puCSGs5",
      "include_colab_link": true
    },
    "kernelspec": {
      "name": "python3",
      "display_name": "Python 3"
    },
    "language_info": {
      "name": "python"
    }
  },
  "cells": [
    {
      "cell_type": "markdown",
      "metadata": {
        "id": "view-in-github",
        "colab_type": "text"
      },
      "source": [
        "<a href=\"https://colab.research.google.com/github/ramun9533/Proyecto_Final_curso_pythpn/blob/main/Proyecto_Final_(%5E_%5E).ipynb\" target=\"_parent\"><img src=\"https://colab.research.google.com/assets/colab-badge.svg\" alt=\"Open In Colab\"/></a>"
      ]
    },
    {
      "cell_type": "code",
      "source": [
        "!pip install wget\n",
        "import wget\n",
        "from bs4 import BeautifulSoup\n",
        "import requests"
      ],
      "metadata": {
        "colab": {
          "base_uri": "https://localhost:8080/"
        },
        "id": "jVAWcnP8n6PH",
        "outputId": "b11a70d5-d759-4df6-e9a1-db0385a30e86"
      },
      "execution_count": 126,
      "outputs": [
        {
          "output_type": "stream",
          "name": "stdout",
          "text": [
            "Requirement already satisfied: wget in /usr/local/lib/python3.10/dist-packages (3.2)\n"
          ]
        }
      ]
    },
    {
      "cell_type": "code",
      "source": [
        "# Motorola Moto G53, 8 Gb, 128 Gb, 6,5\" $3,006,04\n",
        "# <span class=\"andes-money-amount__fraction\" aria-hidden=\"true\">3,006</span>\n",
        "url = 'https://www.mercadolibre.com.mx/motorola-moto-g53-8-gb-128-gb-65/p/MLM22947162?pdp_filters=category:MLM1055#searchVariation=MLM22947162&position=3&search_layout=stack&type=product&tracking_id=d7676704-bae0-4c80-8d25-29fa31f1b171'\n",
        "# Celular Cubot P80 Dual Sim 256 Gb Global 8 Gb Ram 5200mah Android 13\n",
        "url1 = 'https://articulo.mercadolibre.com.mx/MLM-2003591282-celular-cubot-p80-dual-sim-256-gb-global-8-gb-ram-5200mah-android-13-_JM#position=45&search_layout=stack&type=item&tracking_id=d7676704-bae0-4c80-8d25-29fa31f1b171'\n",
        "# Realme GT 2 Pro Dual SIM 256 GB steel black 12 GB RAM\n",
        "url2 = 'https://www.mercadolibre.com.mx/realme-gt-2-pro-dual-sim-256-gb-steel-black-12-gb-ram/p/MLM19130693?pdp_filters=item_id:MLM1507221033#is_advertising=true&searchVariation=MLM19130693&position=9&search_layout=stack&type=pad&tracking_id=d7676704-bae0-4c80-8d25-29fa31f1b171&is_advertising=true&ad_domain=VQCATCORE_LST&ad_position=9&ad_click_id=MjMzNjkyN2QtZmI2MC00ZDAzLWJiZDUtZGQ1OWI5NWU0MWFl'\n",
        "# Accede a las paginas y las lee con requests.get(url), luego guarda el codigo\n",
        "# de cada una en page\n",
        "page = requests.get(url)\n",
        "page1 = requests.get(url1)\n",
        "page2 = requests.get(url2)\n",
        "# parte el codigo de las paginas en partes\n",
        "soup = BeautifulSoup(page.content, 'html.parser')\n",
        "soup1 = BeautifulSoup(page1.content, 'html.parser')\n",
        "soup2 = BeautifulSoup(page2.content, 'html.parser')"
      ],
      "metadata": {
        "id": "XcW_tur5cjI4"
      },
      "execution_count": 124,
      "outputs": []
    },
    {
      "cell_type": "code",
      "source": [
        "# Extrae las partes que contemngan las etiquetas \"span\" y que contengan el\n",
        "# atributo \"class\":\"andes-money-amount__fraction\" y se convierten a una lista\n",
        "titulo = soup.find_all('span', attrs={\"class\":\"andes-money-amount__fraction\"})\n",
        "titulo1 = soup1.find_all('span', attrs={\"class\":\"andes-money-amount__fraction\"})\n",
        "titulo2 = soup2.find_all('span', attrs={\"class\":\"andes-money-amount__fraction\"})\n",
        "# Luego se imprime titulo y se localiza el dato buscado, como ya esta en partes\n",
        "#  solo se localiza el dato buscado y en que posicion se encuentra, en este caso\n",
        "# la ubicacion es titulo[1]"
      ],
      "metadata": {
        "id": "2twoeo92d9oJ"
      },
      "execution_count": 123,
      "outputs": []
    },
    {
      "cell_type": "code",
      "source": [
        "# Se convierte del formato \"bs4.element.Tag\" a string y se guarda en un variable\n",
        "chango = str(titulo[1])\n",
        "chango1 = str(titulo1[1])\n",
        "chango2 = str(titulo2[1])\n",
        "type(titulo[1])"
      ],
      "metadata": {
        "colab": {
          "base_uri": "https://localhost:8080/"
        },
        "id": "Eaczz2i3lqO6",
        "outputId": "18a10048-c690-43c6-d22a-aa2d25f730a0"
      },
      "execution_count": 121,
      "outputs": [
        {
          "output_type": "execute_result",
          "data": {
            "text/plain": [
              "bs4.element.Tag"
            ]
          },
          "metadata": {},
          "execution_count": 121
        }
      ]
    },
    {
      "cell_type": "code",
      "source": [
        "# Los \"chango\" son el código HTML que contiene la etiqueta <span>, pero\n",
        "# ya como string\n",
        "# Creamos un objeto BeautifulSoup a partir del código HTML que esta en los changos\n",
        "sopita = BeautifulSoup(chango, 'html.parser')\n",
        "sopita1 = BeautifulSoup(chango1, 'html.parser')\n",
        "sopita2 = BeautifulSoup(chango2, 'html.parser')\n",
        "# Buscamos la etiqueta <span> utilizando sus atributos\n",
        "span_tag = sopita.find('span', {'class': 'andes-money-amount__fraction'})\n",
        "span_tag1 = sopita1.find('span', {'class': 'andes-money-amount__fraction'})\n",
        "span_tag2 = sopita2.find('span', {'class': 'andes-money-amount__fraction'})\n",
        "# Obtenemos el número que está dentro de la etiqueta <span>\n",
        "numero_str = span_tag.text\n",
        "numero_str1 = span_tag1.text\n",
        "numero_str2 = span_tag2.text\n",
        "\n",
        "# Eliminamos la coma para poder convertirlo a un entero\n",
        "numero_str = numero_str.replace(',', '')\n",
        "numero_str1 = numero_str1.replace(',', '')\n",
        "numero_str2 = numero_str2.replace(',', '')\n",
        "\n",
        "# Convertimos el número a un entero\n",
        "numero_entero = int(numero_str)\n",
        "numero_entero1 = int(numero_str1)\n",
        "numero_entero2 = int(numero_str2)\n",
        "print(numero_entero)  # Salida: 2961 (como un entero)\n",
        "#type(chango)\n",
        "print(numero_entero1)\n",
        "print(numero_entero2)"
      ],
      "metadata": {
        "colab": {
          "base_uri": "https://localhost:8080/"
        },
        "id": "GWNAY84SosmV",
        "outputId": "9540ba17-6bd9-4fca-f49d-e69ee633035d"
      },
      "execution_count": 122,
      "outputs": [
        {
          "output_type": "stream",
          "name": "stdout",
          "text": [
            "2961\n",
            "2566\n",
            "9314\n"
          ]
        }
      ]
    },
    {
      "cell_type": "code",
      "source": [
        "date_crud_string = str(DateCrud)\n",
        "type(date_crud_string)\n",
        "#len(DateCrud)\n",
        "#print(date_crud_string)"
      ],
      "metadata": {
        "colab": {
          "base_uri": "https://localhost:8080/"
        },
        "id": "WgFj3i5nrUFz",
        "outputId": "f261f624-f621-4aeb-e818-c7bee920f688"
      },
      "execution_count": 87,
      "outputs": [
        {
          "output_type": "execute_result",
          "data": {
            "text/plain": [
              "str"
            ]
          },
          "metadata": {},
          "execution_count": 87
        }
      ]
    }
  ]
}